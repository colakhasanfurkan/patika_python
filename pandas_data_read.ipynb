{
 "cells": [
  {
   "cell_type": "code",
   "execution_count": 2,
   "metadata": {},
   "outputs": [],
   "source": [
    "import numpy as np\n",
    "import pandas as pd\n",
    "import matplotlib.pyplot as plt\n",
    "%matplotlib inline"
   ]
  },
  {
   "cell_type": "code",
   "execution_count": 25,
   "metadata": {},
   "outputs": [
    {
     "data": {
      "text/html": [
       "<div>\n",
       "<style scoped>\n",
       "    .dataframe tbody tr th:only-of-type {\n",
       "        vertical-align: middle;\n",
       "    }\n",
       "\n",
       "    .dataframe tbody tr th {\n",
       "        vertical-align: top;\n",
       "    }\n",
       "\n",
       "    .dataframe thead th {\n",
       "        text-align: right;\n",
       "    }\n",
       "</style>\n",
       "<table border=\"1\" class=\"dataframe\">\n",
       "  <thead>\n",
       "    <tr style=\"text-align: right;\">\n",
       "      <th></th>\n",
       "      <th>id</th>\n",
       "      <th>first_name</th>\n",
       "      <th>last_name</th>\n",
       "      <th>email</th>\n",
       "      <th>gender</th>\n",
       "      <th>ip_address</th>\n",
       "    </tr>\n",
       "  </thead>\n",
       "  <tbody>\n",
       "    <tr>\n",
       "      <th>1</th>\n",
       "      <td>00-293-9237</td>\n",
       "      <td>Molly</td>\n",
       "      <td>Cissen</td>\n",
       "      <td>mcissen0@bloglovin.com</td>\n",
       "      <td>Female</td>\n",
       "      <td>40.248.211.142</td>\n",
       "    </tr>\n",
       "    <tr>\n",
       "      <th>2</th>\n",
       "      <td>89-364-9246</td>\n",
       "      <td>Kincaid</td>\n",
       "      <td>Klees</td>\n",
       "      <td>kklees1@nature.com</td>\n",
       "      <td>Genderqueer</td>\n",
       "      <td>52.158.231.140</td>\n",
       "    </tr>\n",
       "    <tr>\n",
       "      <th>3</th>\n",
       "      <td>29-525-1472</td>\n",
       "      <td>Ketty</td>\n",
       "      <td>Goaley</td>\n",
       "      <td>kgoaley2@economist.com</td>\n",
       "      <td>Female</td>\n",
       "      <td>101.12.44.134</td>\n",
       "    </tr>\n",
       "    <tr>\n",
       "      <th>4</th>\n",
       "      <td>35-204-5725</td>\n",
       "      <td>Terence</td>\n",
       "      <td>MacFie</td>\n",
       "      <td>tmacfie3@dagondesign.com</td>\n",
       "      <td>Male</td>\n",
       "      <td>125.111.156.121</td>\n",
       "    </tr>\n",
       "    <tr>\n",
       "      <th>5</th>\n",
       "      <td>55-617-8808</td>\n",
       "      <td>Reginald</td>\n",
       "      <td>Kuhne</td>\n",
       "      <td>rkuhne4@auda.org.au</td>\n",
       "      <td>Male</td>\n",
       "      <td>78.214.87.21</td>\n",
       "    </tr>\n",
       "  </tbody>\n",
       "</table>\n",
       "</div>"
      ],
      "text/plain": [
       "            id first_name last_name                     email       gender  \\\n",
       "1  00-293-9237      Molly    Cissen    mcissen0@bloglovin.com       Female   \n",
       "2  89-364-9246    Kincaid     Klees        kklees1@nature.com  Genderqueer   \n",
       "3  29-525-1472      Ketty    Goaley    kgoaley2@economist.com       Female   \n",
       "4  35-204-5725    Terence    MacFie  tmacfie3@dagondesign.com         Male   \n",
       "5  55-617-8808   Reginald     Kuhne       rkuhne4@auda.org.au         Male   \n",
       "\n",
       "        ip_address  \n",
       "1   40.248.211.142  \n",
       "2   52.158.231.140  \n",
       "3    101.12.44.134  \n",
       "4  125.111.156.121  \n",
       "5     78.214.87.21  "
      ]
     },
     "execution_count": 25,
     "metadata": {},
     "output_type": "execute_result"
    }
   ],
   "source": [
    "new_table = pd.DataFrame(pd.read_csv(\"/home/hasanfurkan/Downloads/MOCK_DATA.csv\"))\n",
    "new_table.index+=1\n",
    "new_table.head()"
   ]
  },
  {
   "cell_type": "code",
   "execution_count": 29,
   "metadata": {},
   "outputs": [
    {
     "data": {
      "text/plain": [
       "[<matplotlib.lines.Line2D at 0x7fddf6eba560>]"
      ]
     },
     "execution_count": 29,
     "metadata": {},
     "output_type": "execute_result"
    },
    {
     "data": {
      "image/png": "[encoded data removed]",
      "text/plain": [
       "<Figure size 432x288 with 1 Axes>"
      ]
     },
     "metadata": {
      "needs_background": "light"
     },
     "output_type": "display_data"
    }
   ],
   "source": [
    "plt.plot(new_table.index,new_table[\"gender\"])"
   ]
  }
 ],
 "metadata": {
  "kernelspec": {
   "display_name": "Python 3 (ipykernel)",
   "language": "python",
   "name": "python3"
  },
  "orig_nbformat": 4
 },
 "nbformat": 4,
 "nbformat_minor": 2
}
