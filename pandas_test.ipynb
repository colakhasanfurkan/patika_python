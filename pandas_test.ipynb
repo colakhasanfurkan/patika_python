{
 "cells": [
  {
   "cell_type": "code",
   "execution_count": 3,
   "id": "e400a525",
   "metadata": {},
   "outputs": [],
   "source": [
    "import pandas as pd\n",
    "import numpy as np\n",
    "g7_pop = pd.Series([233.851,455.515,156,845,156.726,156.645,156.648])"
   ]
  },
  {
   "cell_type": "code",
   "execution_count": 4,
   "id": "55358a69",
   "metadata": {},
   "outputs": [
    {
     "data": {
      "text/plain": [
       "0    233.851\n",
       "1    455.515\n",
       "2    156.000\n",
       "3    845.000\n",
       "4    156.726\n",
       "5    156.645\n",
       "6    156.648\n",
       "Name: G7 Population, dtype: float64"
      ]
     },
     "execution_count": 4,
     "metadata": {},
     "output_type": "execute_result"
    }
   ],
   "source": [
    "g7_pop\n",
    "g7_pop.name = \"G7 Population\"\n",
    "g7_pop"
   ]
  },
  {
   "cell_type": "code",
   "execution_count": 5,
   "id": "a7aaba1b",
   "metadata": {},
   "outputs": [
    {
     "data": {
      "text/plain": [
       "Canada     233.851\n",
       "France     455.515\n",
       "UK         156.000\n",
       "Italy      845.000\n",
       "Japan      156.726\n",
       "USA        156.645\n",
       "Germany    156.648\n",
       "Name: G7 Population, dtype: float64"
      ]
     },
     "execution_count": 5,
     "metadata": {},
     "output_type": "execute_result"
    }
   ],
   "source": [
    "g7_pop.index = [\n",
    "    \"Canada\",\n",
    "    \"France\",\n",
    "    \"UK\",\n",
    "    \"Italy\",\n",
    "    \"Japan\",\n",
    "    \"USA\",\n",
    "    \"Germany\",\n",
    "]\n",
    "g7_pop"
   ]
  },
  {
   "cell_type": "code",
   "execution_count": 6,
   "id": "c16fc181",
   "metadata": {},
   "outputs": [
    {
     "data": {
      "text/plain": [
       "Canada     500.000\n",
       "France     455.515\n",
       "UK         156.000\n",
       "Italy      845.000\n",
       "Japan      156.726\n",
       "USA        156.645\n",
       "Germany    156.648\n",
       "Name: G7 Population, dtype: float64"
      ]
     },
     "execution_count": 6,
     "metadata": {},
     "output_type": "execute_result"
    }
   ],
   "source": [
    "g7_pop.iloc[0] = 500\n",
    "g7_pop"
   ]
  },
  {
   "cell_type": "code",
   "execution_count": null,
   "id": "a3b6f737",
   "metadata": {},
   "outputs": [],
   "source": []
  }
 ],
 "metadata": {
  "kernelspec": {
   "display_name": "Python 3 (ipykernel)",
   "language": "python",
   "name": "python3"
  },
  "language_info": {
   "codemirror_mode": {
    "name": "ipython",
    "version": 3
   },
   "file_extension": ".py",
   "mimetype": "text/x-python",
   "name": "python",
   "nbconvert_exporter": "python",
   "pygments_lexer": "ipython3",
   "version": "3.10.4"
  },
  "vscode": {
   "interpreter": {
    "hash": "36cf16204b8548560b1c020c4e8fb5b57f0e4c58016f52f2d4be01e192833930"
   }
  }
 },
 "nbformat": 4,
 "nbformat_minor": 5
}
